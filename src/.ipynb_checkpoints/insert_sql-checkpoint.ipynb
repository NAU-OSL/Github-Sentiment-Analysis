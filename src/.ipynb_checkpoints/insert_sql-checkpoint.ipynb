{
 "cells": [
  {
   "cell_type": "code",
   "execution_count": 21,
   "metadata": {},
   "outputs": [],
   "source": [
    "import mysql.connector\n",
    "from datetime import date\n",
    "from Config import *"
   ]
  },
  {
   "cell_type": "code",
   "execution_count": 22,
   "metadata": {},
   "outputs": [],
   "source": [
    "def connect_to_db( host_name, database_name ) :\n",
    "    return mysql.connector.connect(\n",
    "        host=host_name,\n",
    "        user=MYSQL_USERNAME,\n",
    "        passwrd=MYSQL_PASSWORD,\n",
    "        database=database_name )"
   ]
  },
  {
   "cell_type": "code",
   "execution_count": 23,
   "metadata": {},
   "outputs": [],
   "source": [
    "data = {\n",
    "    \"id\" : 1, \n",
    "    \"name\" : \"test\", \n",
    "    \"owner\" : \"owner\", \n",
    "    \"start_date\" : date(9999, 1, 1), \n",
    "    \"isMirror\" : False, \n",
    "    \"isFork\" : False, \n",
    "    \"diskUsage\" : 100, \n",
    "    \"primaryLanguage\" : \"C\",\n",
    "    \"numContributors\" : 100, \n",
    "    \"watchers\" : 100, \n",
    "    \"stars\" : 100, \n",
    "    \"forks\" : 100, \n",
    "    \"issues\" : 100, \n",
    "    \"commits\" : 100, \n",
    "    \"pullRequests\" : 100, \n",
    "    \"releases\" : 100,\n",
    "    \"license_id\" : 1, \n",
    "    \"license_name\" : \"test\", \n",
    "    \"psuedoLicense\" : False, \n",
    "    \"url\" : \"test.com\"\n",
    "}"
   ]
  },
  {
   "cell_type": "code",
   "execution_count": 24,
   "metadata": {},
   "outputs": [],
   "source": [
    "def insert_repo_row( data ) :\n",
    "    host_name = \"localhost\"\n",
    "    database_name = \"research_db\"\n",
    "    mydb = connect_to_db( host_name, database_name )\n",
    "    print(mydb)\n",
    "    cursor = mydb.cursor()\n",
    "    print(cursor)\n",
    "    \n",
    "    sql = \"\"\"INSTER INTO repositories (id, name, owner, start_date, isMirror, isFork, diskUsage, \n",
    "                     primaryLanguage, numContributors, watchers, stars, forks, issues, commits, \n",
    "                     pullRequests, releases, license_id, license_name, psuedoLicense, url) VALUES\n",
    "                     (%(id)s, %(name)s, %(owner)s, %(start_date)s, %(isMirror)s, %(isFork)s, \n",
    "                     %(diskUsage)s, %(primaryLanguage)s, %(numContributors)s, %(watchers)s, %(stars)s, \n",
    "                     %(forks)s, %(issues)s, %(commits)s, %(pullRequests)s, %(releases)s, %(license_id)s, \n",
    "                     %(license_name)s, %(psuedoLicense)s, %(url)s)\"\"\"\n",
    "    \n",
    "    cursor.execute( sql, data )"
   ]
  },
  {
   "cell_type": "code",
   "execution_count": null,
   "metadata": {},
   "outputs": [],
   "source": []
  }
 ],
 "metadata": {
  "kernelspec": {
   "display_name": "Python 3",
   "language": "python",
   "name": "python3"
  },
  "language_info": {
   "codemirror_mode": {
    "name": "ipython",
    "version": 3
   },
   "file_extension": ".py",
   "mimetype": "text/x-python",
   "name": "python",
   "nbconvert_exporter": "python",
   "pygments_lexer": "ipython3",
   "version": "3.7.4"
  }
 },
 "nbformat": 4,
 "nbformat_minor": 2
}
