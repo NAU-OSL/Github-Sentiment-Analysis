{
 "cells": [
  {
   "cell_type": "code",
   "execution_count": 109,
   "metadata": {},
   "outputs": [],
   "source": [
    "import sqlite3\n",
    "from sqlite3 import Error\n",
    "from Config import *"
   ]
  },
  {
   "cell_type": "code",
   "execution_count": 110,
   "metadata": {},
   "outputs": [],
   "source": [
    "def create_connection(db_file):\n",
    "    \"\"\" create a database connection to the SQLite database\n",
    "        specified by db_file\n",
    "    :param db_file: database file\n",
    "    :return: Connection object or None\n",
    "    \"\"\"\n",
    "    conn = None\n",
    "    try:\n",
    "        conn = sqlite3.connect(db_file)\n",
    "        return conn\n",
    "    except Error as e:\n",
    "        print(e)\n",
    "        \n",
    "    return conn"
   ]
  },
  {
   "cell_type": "code",
   "execution_count": 111,
   "metadata": {},
   "outputs": [],
   "source": [
    "def create_table(conn, create_table_sql):\n",
    "    \"\"\" create a table from the create_table_sql statement\n",
    "    :param conn: Connection object\n",
    "    :param create_table_sql: a CREATE TABLE statement\n",
    "    :return:\n",
    "    \"\"\"\n",
    "    try:\n",
    "        c = conn.cursor()\n",
    "        c.execute(create_table_sql)\n",
    "    except Error as e:\n",
    "        print(e)"
   ]
  },
  {
   "cell_type": "code",
   "execution_count": 112,
   "metadata": {},
   "outputs": [],
   "source": [
    "def create_repository(conn, repository):\n",
    "    \"\"\"\n",
    "    Create a new repository into the repository table\n",
    "    :param conn:\n",
    "    :param repository:\n",
    "    :return: project id\n",
    "    \"\"\"\n",
    "    sql = \"\"\"INSERT INTO repositories (id, name, owner, start_date, isMirror, isFork, diskUsage, \n",
    "                     primaryLanguage, numContributors, watchers, stars, forks, issues, commits, \n",
    "                     pullRequests, releases, license_id, license_name, pseudoLicense, url) VALUES\n",
    "                     (?, ?, ?, ?, ?, ?, ?, ?, ?, ?, ?, ?, ?, ?, ?, ?, ?, ?, ?, ?)\"\"\"\n",
    "    cur = conn.cursor()\n",
    "    cur.execute(sql, repository)\n",
    "    return cur.lastrowid"
   ]
  },
  {
   "cell_type": "code",
   "execution_count": null,
   "metadata": {},
   "outputs": [],
   "source": []
  },
  {
   "cell_type": "code",
   "execution_count": 113,
   "metadata": {},
   "outputs": [],
   "source": [
    "database = r\"C:\\sqlite\\db\\research3.db\"\n",
    "\n",
    "# create a database connection\n",
    "conn = create_connection(database)"
   ]
  },
  {
   "cell_type": "code",
   "execution_count": 114,
   "metadata": {},
   "outputs": [
    {
     "name": "stdout",
     "output_type": "stream",
     "text": [
      "None\n"
     ]
    }
   ],
   "source": [
    "sql_create_repos_table = \"\"\"CREATE TABLE IF NOT EXISTS repositories (\n",
    "                                        id text PRIMARY KEY NOT NULL,\n",
    "                                        name text NOT NULL,\n",
    "                                        owner text NOT NULL,\n",
    "                                        start_date text NOT NULL,\n",
    "                                        isMirror boolean NOT NULL,\n",
    "                                        isFork boolean NOT NULL,\n",
    "                                        diskUsage int NOT NULL,\n",
    "                                        primaryLanguage text NOT NULL,\n",
    "                                        numContributors int NOT NULL,\n",
    "                                        watchers int NOT NULL,\n",
    "                                        stars int NOT NULL,\n",
    "                                        forks int NOT NULL,\n",
    "                                        issues int NOT NULL,\n",
    "                                        commits int NOT NULL,\n",
    "                                        pullRequests int NOT NULL,\n",
    "                                        releases int NOT NULL,\n",
    "                                        license_id text NOT NULL,\n",
    "                                        license_name text NOT NULL,\n",
    "                                        pseudoLicense boolean NOT NULL,\n",
    "                                        url text NOT NULL\n",
    "                                    ); \"\"\"\n",
    "\n",
    "with conn:\n",
    "    print(create_table(conn, sql_create_repos_table))"
   ]
  },
  {
   "cell_type": "code",
   "execution_count": 115,
   "metadata": {},
   "outputs": [
    {
     "name": "stdout",
     "output_type": "stream",
     "text": [
      "3\n"
     ]
    }
   ],
   "source": [
    "repository = (\n",
    "    12, \n",
    "    \"test\", \n",
    "    \"owner\", \n",
    "    1111, \n",
    "    False, \n",
    "    False, \n",
    "    100, \n",
    "    \"C\",\n",
    "    100, \n",
    "    100, \n",
    "    100, \n",
    "    100, \n",
    "    100, \n",
    "    100, \n",
    "    100, \n",
    "    100,\n",
    "    1, \n",
    "    \"test\", \n",
    "    False, \n",
    "    \"test.com\"\n",
    ")\n",
    "\n",
    "with conn:\n",
    "    repo_id = create_repository(conn, repository)\n",
    "print(repo_id)"
   ]
  },
  {
   "cell_type": "code",
   "execution_count": null,
   "metadata": {},
   "outputs": [],
   "source": []
  }
 ],
 "metadata": {
  "kernelspec": {
   "display_name": "Python 3",
   "language": "python",
   "name": "python3"
  },
  "language_info": {
   "codemirror_mode": {
    "name": "ipython",
    "version": 3
   },
   "file_extension": ".py",
   "mimetype": "text/x-python",
   "name": "python",
   "nbconvert_exporter": "python",
   "pygments_lexer": "ipython3",
   "version": "3.7.4"
  }
 },
 "nbformat": 4,
 "nbformat_minor": 2
}
